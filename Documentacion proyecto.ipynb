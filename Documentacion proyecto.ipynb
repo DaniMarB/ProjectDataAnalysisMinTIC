# -*- coding: utf-8 -*-
"""
Created on Sun May 12 16:51:53 2024

@author: danie
"""

import pandas as pd
file = "BD 2.xlsx"
selectedRows=['gbifID','kingdom','phylum','class','order','family','genus','species','locality','stateProvince','individualCount','eventDate']
altitud = "BD 1.xlsx"
altitudRows = ['species','elevation']
df_altitud= pd.read_excel(altitud,usecols=altitudRows)
df_resaltitud=df_altitud.groupby('species')['elevation'].mean().reset_index()
df_resaltitud['elevation']=df_resaltitud['elevation'].round()
df = pd.read_excel(file,usecols=selectedRows)
df= pd.merge(df,df_resaltitud,on='species',how='left')
df['elevation'] = df['elevation'].fillna(0)
df.set_index('gbifID', inplace=True)


print(df)
#print(df_resaltitud)

# df2 = pd.DataFrame({
#     'family': ['Family1', 'Family1', 'Family2', 'Family2'],
#     'Altitud': [100, 200, 300, 400]
# })

# # Calculate the average altitude for each family
# avg_altitude_per_family = df2.groupby('family')['Altitud'].mean().reset_index()

# # Print the result
# print(avg_altitude_per_family)